{
 "cells": [
  {
   "cell_type": "markdown",
   "metadata": {},
   "source": [
    "## Exercícios de Python 1"
   ]
  },
  {
   "cell_type": "markdown",
   "metadata": {},
   "source": [
    "1. Dado o tamanho da base e da altura de um retângulo, calcular a sua área e o seu perímetro."
   ]
  },
  {
   "cell_type": "code",
   "execution_count": null,
   "metadata": {},
   "outputs": [],
   "source": [
    "#Entrada de valor:\n",
    "base = int(input(\"Digite aqui a largura do retângulo (somente números): \"))\n",
    "altura = int(input(\"Digite aqui a altura do retângulo (somente números): \"))\n",
    "\n",
    "#Processamento ou transformação:\n",
    "\n",
    "#Verificando se é um quadrado:\n",
    "if base == altura:\n",
    "  print(\"Isso não é um retângulo, é um quadrado!\")\n",
    "\n",
    "else:\n",
    "  # Calculando a área e o perimetro do retângulo.\n",
    "  area = base * altura\n",
    "  perimetro = (base * 2) + (altura * 2)\n",
    "\n",
    "  #Saída:\n",
    "  print(f\"O retângulo tem a área igual a {area}, e o perimetro igual a {perimetro}\")"
   ]
  },
  {
   "cell_type": "markdown",
   "metadata": {},
   "source": [
    "2.  Dado o tamanho do lado de um quadrado, calcular a sua área e o seu perímetro."
   ]
  },
  {
   "cell_type": "code",
   "execution_count": null,
   "metadata": {},
   "outputs": [],
   "source": [
    "#Entrada de valor:\n",
    "base = int(input(\"Digite aqui a largura do quadrado (somente números): \"))\n",
    "altura = int(input(\"Digite aqui a altura do quadrado (somente números): \"))\n",
    "\n",
    "#Processamento ou transformação:\n",
    "\n",
    "#Verificando se é um retângulo:\n",
    "if base != altura:\n",
    "  print(\"Isso não é um quadrado, é um retângulo!\")\n",
    "\n",
    "else:\n",
    "  # Calculando a área e o perimetro do quadrado.\n",
    "  area = base * altura\n",
    "  perimetro = (base * 2) + (altura * 2)\n",
    "\n",
    "  #Saída:\n",
    "  print(f\"O quadrado tem a área igual a {area}, e o perimetro igual a {perimetro}\")"
   ]
  },
  {
   "cell_type": "markdown",
   "metadata": {},
   "source": [
    "3. Dado os três lados de um triângulo determinar o perímetro do mesmo."
   ]
  },
  {
   "cell_type": "code",
   "execution_count": null,
   "metadata": {},
   "outputs": [],
   "source": [
    "#Entrada de valor:\n",
    "lado1 = int(input(\"Digite aqui o primeiro lado do triangulo: \"))\n",
    "lado2 = int(input(\"Digite aqui o segundo lado do triangulo: \"))\n",
    "lado3 = int(input(\"Digite aqui o terceiro lado do triangulo: \"))\n",
    "\n",
    "# Calculando o perímetro:\n",
    "if lado1 < lado2 + lado3 and lado2 < lado1 + lado3 and lado3 < lado1 + lado2:\n",
    "  perimetro = lado1 + lado2 + lado3\n",
    "\n",
    "  #Saída de valores:\n",
    "  print(f\"Realmente é um triângulo e ele possuí o perímetro igual a {perimetro}\")\n",
    "\n",
    "else:\n",
    "  print(\"Não é um triângulo!!!\")"
   ]
  },
  {
   "cell_type": "markdown",
   "metadata": {},
   "source": [
    "4. Ler um número inteiro e exibir o seu sucessor."
   ]
  },
  {
   "cell_type": "code",
   "execution_count": null,
   "metadata": {},
   "outputs": [],
   "source": [
    "#Entrada de valor:\n",
    "numero = int(input(\"Digite aqui o número inteiro que deseja: \"))\n",
    "\n",
    "#Calculando:\n",
    "numero += 1\n",
    "\n",
    "#Saída:\n",
    "print(f\"O sucessor do número é {numero}\")"
   ]
  },
  {
   "cell_type": "markdown",
   "metadata": {},
   "source": [
    "5. Ler dois números inteiros e exibir o quociente e o resto da divisão inteira entre eles."
   ]
  },
  {
   "cell_type": "code",
   "execution_count": null,
   "metadata": {},
   "outputs": [],
   "source": [
    "#Entrada de valor:\n",
    "numero1 = int(input(\"Digite aqui o primeiro número inteiro que deseja: \"))\n",
    "numero2 = int(input(\"Digite aqui o segundo número inteiro que deseja: \"))\n",
    "\n",
    "#Calculando:\n",
    "divisao = numero1 / numero2\n",
    "divisao_inteira = numero1 // numero2\n",
    "resto = numero1 % numero2\n",
    "\n",
    "#Saída:\n",
    "print(f\"A divisão covencional terá como resultado {divisao}, a divisão inteira terá como resultado {divisao_inteira} e o resto será igual a {resto}\")"
   ]
  },
  {
   "cell_type": "markdown",
   "metadata": {},
   "source": [
    "6. Dado que a fórmula para conversão de Fahrenheit para Celsius é C = 5/9 (F – 32), entrar com um valor de temperatura em Fahrenheit e exibi-lo em Celsius."
   ]
  },
  {
   "cell_type": "code",
   "execution_count": null,
   "metadata": {},
   "outputs": [],
   "source": [
    "#Entrada do valor:\n",
    "temper_f = float(input(\"Digite aqui a temperatura em Fahrenheit: \"))\n",
    "\n",
    "#Processamento:\n",
    "temper_c = round((5/9)*(temper_f - 32))\n",
    "\n",
    "#Saída:\n",
    "print(f\"Na conversão, a temperatura em Celsius será {temper_c}\")"
   ]
  },
  {
   "cell_type": "markdown",
   "metadata": {},
   "source": [
    "7. Faça um algoritmo para calcular a nota final (nf) de um aluno, obtida pela média aritmética de 2 provas (p1 e p2)."
   ]
  },
  {
   "cell_type": "code",
   "execution_count": null,
   "metadata": {},
   "outputs": [],
   "source": [
    "#Entrada de valor:\n",
    "p1 = int(input(\"Digite aqui a nota da p1: \"))\n",
    "p2 = int(input(\"Digite aqui a nota da p2: \"))\n",
    "\n",
    "#Processamento:\n",
    "nota_final = (p1 + p2) / 2\n",
    "\n",
    "#Saída:\n",
    "print(f\"Portanto a nota final será igual a {nota_final}\")"
   ]
  },
  {
   "cell_type": "markdown",
   "metadata": {},
   "source": [
    "8. Faça um algoritmo que transforme uma velocidade em m/s para km/h. Para tal, multiplique o valor em m/s por 3,6."
   ]
  },
  {
   "cell_type": "code",
   "execution_count": null,
   "metadata": {},
   "outputs": [],
   "source": [
    "#Entrada de valor:\n",
    "metro_s = float(input(\"Digite aqui a velocidade em m/s: \"))\n",
    "\n",
    "#Processamento:\n",
    "kilometro_h = metro_s * 3.6\n",
    "\n",
    "#Saída\n",
    "print(f\"Portanto, {metro_s} m/s em km/h será {kilometro_h}\")"
   ]
  }
 ],
 "metadata": {
  "language_info": {
   "name": "python"
  },
  "orig_nbformat": 4
 },
 "nbformat": 4,
 "nbformat_minor": 2
}
